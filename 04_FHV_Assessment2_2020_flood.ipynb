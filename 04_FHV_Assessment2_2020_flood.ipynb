{
 "cells": [
  {
   "cell_type": "markdown",
   "metadata": {},
   "source": [
    "## Flood Health Vulnerability (FHV) Assessment 2\n",
    "This notebooks applies FHV assessment for the 2020 flood event."
   ]
  },
  {
   "cell_type": "code",
   "execution_count": 2,
   "metadata": {},
   "outputs": [],
   "source": [
    "import os\n",
    "import sys\n",
    "from functools import reduce\n",
    "import numpy as np\n",
    "import pandas as pd\n",
    "from scipy.stats import pearsonr\n",
    "from sklearn import decomposition\n",
    "from sklearn.preprocessing import StandardScaler, MinMaxScaler, QuantileTransformer\n",
    "import geopandas as gpd\n",
    "import rasterio\n",
    "import fhv\n",
    "# Mapping\n",
    "import matplotlib as mpl\n",
    "import matplotlib.pyplot as plt\n",
    "import matplotlib.colors as colors\n",
    "import matplotlib.patheffects as pe\n",
    "from mpl_toolkits.axes_grid1.inset_locator import inset_axes\n",
    "from matplotlib.colors import ListedColormap\n",
    "import seaborn as sns\n",
    "sns.set_style(\"white\", {'axes.linewidth': 1, 'grid.color': 'black'})\n",
    "lims = [88.00, 92.7, 20.57, 26.64]    # [xmin, xmax, ymin, ymax]\n",
    "\n",
    "# ADMINISTRATIVE SHAPEFILE\n",
    "# ------------------------------------------------- #\n",
    "# Upazila\n",
    "shape3 = gpd.read_file('./data/admin_boundary/bgd_admbnda_adm3_bbs_20180410.shp')\n",
    "# Convert ADM3_PCODE of Mymensingh (45) division (total 378 unions) (45 -> 30)\n",
    "f45t30 = '30' + shape3.loc[shape3['ADM1_PCODE'] == '45', 'ADM3_PCODE'].str[2:]\n",
    "shape3.loc[shape3['ADM1_PCODE'] == '45', 'ADM3_PCODE'] = f45t30.values\n",
    "shape3['ADM3_PCODE'] = shape3['ADM3_PCODE'].astype(int)\n",
    "f45t30 = '30' + shape3.loc[shape3['ADM1_PCODE'] == '45', 'ADM2_PCODE'].str[2:]\n",
    "shape3.loc[shape3['ADM1_PCODE'] == '45', 'ADM2_PCODE'] = f45t30.values\n",
    "shape3['ADM2_PCODE'] = shape3['ADM2_PCODE'].astype(int)\n",
    "shape3 = shape3.drop(shape3.columns[[0,1,4,5,6,9,10,11,12,13,14,15]], axis=1)\n",
    "ADM2 = shape3[['ADM2_EN','ADM2_PCODE']].copy().drop_duplicates()\n",
    "ADM2['ADM2_PCODE'] = ADM2['ADM2_PCODE'].astype(int)\n",
    "# District\n",
    "shape2 = gpd.read_file('./data/admin_boundary/bgd_admbnda_adm2_bbs_20180410.shp')\n",
    "# Convert ADM3_PCODE of Mymensingh (45) division (total 378 unions) (45 -> 30)\n",
    "shape2 = shape2.drop(shape2.columns[[0,1,4,5,6,9,10,11,12,13]], axis=1)\n",
    "f45t30 = '30' + shape2.loc[shape2['ADM1_PCODE'] == '45', 'ADM2_PCODE'].str[2:]\n",
    "shape2.loc[shape2['ADM1_PCODE'] == '45', 'ADM2_PCODE'] = f45t30.values\n",
    "shape2['ADM2_PCODE'] = shape2['ADM2_PCODE'].astype(int)\n",
    "# Division\n",
    "shape1 = gpd.read_file('./data/admin_boundary/bgd_admbnda_adm1_bbs_20180410.shp')\n",
    "# ------------------------------------------------- #\n",
    "\n",
    "# District-level Population\n",
    "df = pd.read_excel('./data/disaster_records/damagedata_DDM.xlsx', \n",
    "                   sheet_name='total_population',skiprows=0,skipfooter=0).fillna(0)\n",
    "popu2017 = df[['ADM2_PCODE', 'Population']]\n",
    "\n",
    "# Load Vulnerability\n",
    "vuln = pd.read_hdf('./data/vuln_calculated_adm3.hdf')"
   ]
  },
  {
   "cell_type": "markdown",
   "metadata": {},
   "source": [
    "## Generate 2020 FFWC Flood Forecast"
   ]
  },
  {
   "cell_type": "code",
   "execution_count": null,
   "metadata": {},
   "outputs": [
    {
     "name": "stdout",
     "output_type": "stream",
     "text": [
      "./data/flood2020/Raster_12-07-2020/extract_floo1_decuple.tif is saved.\n",
      "./data/flood2020/Raster_12-07-2020/extract_floo2_decuple.tif is saved.\n"
     ]
    }
   ],
   "source": [
    "from rasterio.warp import calculate_default_transform, reproject, Resampling\n",
    "def ReprojectToReference(in_path, ref_path, out_path, out_dtype, scale=1, out_nodata=None):\n",
    "    \"\"\"Reproject a raster to reference raster\n",
    "    \"\"\"\n",
    "    with rasterio.open(ref_path) as ref:\n",
    "        profile = ref.profile.copy()\n",
    "        profile.update(\n",
    "            dtype=out_dtype,\n",
    "            nodata=out_nodata,\n",
    "            compress='lzw')\n",
    "        with rasterio.open(in_path) as src:\n",
    "            with rasterio.open(out_path, 'w', **profile) as dst:\n",
    "                for i in range(1, src.count + 1):\n",
    "                    source_data = src.read(i)\n",
    "                    source_data[source_data>=0] = source_data[source_data>=0]*scale\n",
    "                    source_data[source_data<0] = 0\n",
    "                    reproject(\n",
    "                        source=source_data,\n",
    "                        destination=rasterio.band(dst, i),\n",
    "                        src_transform=src.transform,\n",
    "                        src_crs=src.crs,\n",
    "                        dst_transform=dst.transform,\n",
    "                        dst_crs=dst.crs,\n",
    "                        resampling=Resampling.average)\n",
    "                print(\"%s is saved.\" % out_path)\n",
    "\n",
    "\n",
    "# FFWC Flood Forecast (Inundation) Map issued at July-12, 2020\n",
    "ref_path = './data/bgd_ppp_2017_30m_decuple.tif'\n",
    "for i in range(1,7):\n",
    "    in_path = './data/flood2020/Raster_12-07-2020/extract_floo%d'%i\n",
    "    out_path = './data/flood2020/Raster_12-07-2020/extract_floo%d_decuple.tif'%i\n",
    "    ReprojectToReference(in_path,ref_path,out_path,rasterio.uint32,scale=10,out_nodata=65536)"
   ]
  },
  {
   "cell_type": "markdown",
   "metadata": {},
   "source": [
    "## Join 2020 FFWC Flood Forecast and Inundation to Population data"
   ]
  },
  {
   "cell_type": "code",
   "execution_count": null,
   "metadata": {},
   "outputs": [],
   "source": [
    "# Union ID list (5160)\n",
    "uidList = pd.read_hdf('./data/uidlist.hdf')\n",
    "# Flatten cell indices for Union ID\n",
    "uidx = np.load('./data/uidx.npz', allow_pickle=True)['uidx']\n",
    "# Shapefiles of administrative units\n",
    "shp_district = gpd.read_file('./data/adm_district.shp')\n",
    "shp_upazila = gpd.read_file('./data/adm_upazila.shp')\n",
    "shp_union = gpd.read_file('./data/adm_union.shp')\n",
    "\n",
    "# Load data\n",
    "popu = rasterio.open('./data/bgd_ppp_2017_30m_decuple.tif').read(1).flatten()    # Population Per Pixel (Decuple value)\n",
    "fcst = rasterio.open('./data/flood2020/Raster_12-07-2020/extract_floo6_decuple.tif').read(1).flatten()  # Flood depth (decuple; unit is 10 cm)"
   ]
  },
  {
   "cell_type": "code",
   "execution_count": null,
   "metadata": {},
   "outputs": [],
   "source": [
    "# Affected population by Flood Inundation and Flood Forecast\n",
    "# (b) Flood Forecast        # Flood depth (decuple; unit is 10 cm)\n",
    "# *Affected population increase linearly with flood depth by 3m\n",
    "popuFcst = popu.copy(); thsd = 35                          \n",
    "popuFcst[fcst <= thsd] =  popuFcst[fcst <= thsd]*(fcst[fcst <= thsd])**2/thsd**2\n",
    "popuFcst[fcst < 10] = 0\n",
    "popuFcst[fcst > 60000] = 0\n",
    "\n",
    "# Counting population\n",
    "totlPopu = np.zeros(uidList.shape)\n",
    "afftPopuFcst = np.zeros_like(totlPopu)\n",
    "# totlCell = [len(udx) for udx in uidx]\n",
    "# afftCellFcst = np.zeros_like(totlPopu)\n",
    "for i, uid in uidList.iteritems():\n",
    "    totlPopu[i] = popu[uidx[i]].sum()\n",
    "    afftPopuFcst[i] = popuFcst[uidx[i]].sum()\n",
    "\n",
    "# Rescale from decuple to normal and Add one to avoid numeric errors\n",
    "totlPopu = (totlPopu+1)/10\n",
    "afftPopuFcst /= 10\n",
    "\n",
    "# Generate a Union dataframe\n",
    "impact4 = shp_union.drop('geometry', axis=1)\n",
    "impact4['POP'], impact4['POPFCST'] = totlPopu, afftPopuFcst\n",
    "impact4['POPFCSTR'] = afftPopuFcst/totlPopu\n",
    "# Aggregate to Upazila level\n",
    "varlist = ['POP','POPFCST']\n",
    "impact3 = impact4.groupby(['ADM3_PCODE', 'ADM3_EN'])[varlist].sum()\n",
    "impact3['POPFCSTR'] = impact3['POPFCST']/impact3['POP']\n",
    "impact3['ADM2_PCODE'], impact3['ADM2_EN'] = shp_upazila['ADM2_PCODE'].values, shp_upazila['ADM2_EN'].values\n",
    "\n",
    "# Print\n",
    "print('POPFCST: {:,}'.format(impact3['POPFCST'].sum().astype(int)))"
   ]
  },
  {
   "cell_type": "code",
   "execution_count": null,
   "metadata": {},
   "outputs": [],
   "source": [
    "temp = impact4.copy().reset_index()\n",
    "temp = temp[[a.startswith('2015') for a in temp['ADM4_PCODE'].values]]\n",
    "# temp['POPFCST'].values"
   ]
  },
  {
   "cell_type": "markdown",
   "metadata": {},
   "source": [
    "## District-level averaged domain vulnerability, FHV, and affected population"
   ]
  },
  {
   "cell_type": "code",
   "execution_count": null,
   "metadata": {},
   "outputs": [],
   "source": [
    "# Affected popoulation in Upazila \n",
    "impact = impact3.reset_index().drop(['ADM2_PCODE','ADM2_EN','ADM3_EN'], axis=1)\n",
    "impact['ADM3_PCODE'] = impact['ADM3_PCODE'].astype(int)\n",
    "# Convert ADM3_PCODE of Mymensingh (45) division (total 378 unions) (45 -> 30)\n",
    "targ = (impact['ADM3_PCODE']/10000).astype(int) == 45\n",
    "f45t30 = 300000 + impact.loc[targ, 'ADM3_PCODE'] % 10000\n",
    "impact.loc[targ, 'ADM3_PCODE'] = f45t30.values\n",
    "impact['ADM2_PCODE'] = (impact['ADM3_PCODE'] / 100).astype(int)\n",
    "impact = impact.set_index('ADM3_PCODE')\n",
    "\n",
    "# Merge vulnerability\n",
    "merge3 = pd.merge(impact, vuln, how='outer', left_index=True, right_index=True)\n",
    "\n",
    "# IMPACT ASSESSMENT -------------------------- #\n",
    "# Multiplication (will be divided by district population)\n",
    "# - Total population\n",
    "merge3['EQUAL'] = merge3['POP']*merge3['equal']\n",
    "# - Predicted affected population (forecast and inundation)\n",
    "merge3['EQUALF'] = merge3['POPFCST']*merge3['equal']\n",
    "# District-level aggregation\n",
    "cols = ['POPFCST','EQUAL','EQUALF']\n",
    "merge2 = merge3.groupby('ADM2_PCODE')[cols].sum().reset_index()\n",
    "# - Import population\n",
    "merge2 = pd.merge(popu2017, merge2, how='outer',on='ADM2_PCODE')\n",
    "merge2 = merge2.rename(columns={'Population':'POP'}).set_index('ADM2_PCODE')\n",
    "# - Calculation\n",
    "merge2['EQUAL'] = merge2['EQUAL']/merge2['POP']\n",
    "merge2['EQUALF'] = merge2['EQUALF']/(merge2['POPFCST']+1)\n",
    "# -------------------------------------------- #\n",
    "\n",
    "# GeoDataFrame\n",
    "merge3 = merge3.drop('ADM2_PCODE', axis=1)\n",
    "mapdata3 = shape3.merge(merge3, how='outer', on='ADM3_PCODE')\n",
    "mapdata2 = shape2.merge(merge2, how='outer', on='ADM2_PCODE')"
   ]
  },
  {
   "cell_type": "code",
   "execution_count": null,
   "metadata": {},
   "outputs": [],
   "source": [
    "result = pd.merge(merge2, shape2[['ADM2_PCODE', 'ADM2_EN']], on='ADM2_PCODE')\n",
    "result = result[['ADM2_PCODE','ADM2_EN','EQUAL','EQUALF']]\n",
    "result = result.rename(columns={'EQUAL': 'Original', 'EQUALF': 'Weighted'})\n",
    "result.to_excel('./data/fhv_jul2020_flood.xlsx')"
   ]
  },
  {
   "cell_type": "markdown",
   "metadata": {},
   "source": [
    "### District-level Average FHV of Affected Population"
   ]
  },
  {
   "cell_type": "code",
   "execution_count": null,
   "metadata": {},
   "outputs": [],
   "source": [
    "# Colormap\n",
    "bounds = list(np.arange(0.2,0.8,0.1))\n",
    "boundaries = [0]+bounds+[1]\n",
    "cmap, norm, vmin, vmax, ticks, boundaries = fhv.cbarpam(bounds, 'RdBu_r', labloc='on',boundaries=boundaries, extension='both')\n",
    "\n",
    "# Text\n",
    "text = \"Social-Health Vulnerability (SHV) is determined by weighting 26 socio-economic, health, and\\ncoping capacity indicators equally.\\\n",
    " The left map is an original SHV, and the right map is an\\naffected population-weighted SHV based on FFWC's July 2020 flood forecast.\\\n",
    " \\n\\nContacts to Donghoon Lee (donghoon.lee@wisc.edu)\"\n",
    "\n",
    "\n",
    "# Plotting\n",
    "sns.set_style(\"white\", {'axes.linewidth': 1, 'grid.color': 'black'})\n",
    "# fignumb = ['(a)', '(b)']\n",
    "figlabel = 'Social-Health\\nVulnerability'\n",
    "fig, axes = plt.subplots(nrows=1,ncols=2,figsize=(10,5), facecolor='w')\n",
    "for (i, el) in enumerate(['EQUAL','EQUALF']):\n",
    "    ax = axes.flatten('F')[i]\n",
    "    ax.set_axis_off()\n",
    "    ax.set_aspect('equal')\n",
    "    ax.axis(lims)\n",
    "    mapdata2.plot(ax=ax, column=el,cmap=cmap, norm=norm, vmin=vmin, vmax=vmax, \n",
    "                     linewidth=0.3, edgecolor='grey')\n",
    "#     ax.annotate(fignumb[i], xy=(-0.01, 0.96), xycoords='axes fraction',\n",
    "#                 horizontalalignment='center', verticalalignment='center',\n",
    "#                 fontname='arial',fontsize=20)\n",
    "    # Borderline of ADM1\n",
    "    shape1.boundary.plot(ax=ax, linewidth=1.2, edgecolor='#525252')\n",
    "plt.tight_layout(pad=-5)\n",
    "ax.annotate(text, xy=(-1., -0.1), xycoords='axes fraction',\n",
    "                horizontalalignment='left', verticalalignment='center',\n",
    "                fontname='arial',fontsize=18)\n",
    "\n",
    "\n",
    "# Colorbar\n",
    "cax = inset_axes(ax, width=\"5%\", height=\"40%\",\n",
    "                 loc='lower left',\n",
    "                 bbox_to_anchor=(1.05, 0.27, 0.6, 1.2),\n",
    "                 bbox_transform=ax.transAxes,borderpad=0)\n",
    "cbar = mpl.colorbar.ColorbarBase(cax, cmap=cmap, norm=norm,\n",
    "                                 boundaries=boundaries,\n",
    "                                 extend='both',\n",
    "                                 extendfrac=0.08,\n",
    "                                 ticks = ticks,\n",
    "                                 spacing='uniform',\n",
    "                                 orientation='vertical')\n",
    "cbar.ax.set_yticklabels(['%.1f'%lb for lb in np.array(bounds)], \n",
    "                        fontname='arial', fontsize=14)\n",
    "cbar.ax.annotate(figlabel, xy=(3.8, 1.15), xycoords='axes fraction',\n",
    "                horizontalalignment='right', verticalalignment='center',\n",
    "                fontname='arial',fontsize=16)    \n",
    "plt.show()\n",
    "\n",
    "# Save a figure\n",
    "if True:\n",
    "    fn_save = './figures/fhv_district_2020_ffwc.pdf'\n",
    "    fig.savefig(fn_save, bbox_inches='tight'); print('%s is saved.' % fn_save)\n",
    "    fn_save = './figures/fhv_district_2020_ffwc.png'\n",
    "    fig.savefig(fn_save, bbox_inches='tight'); print('%s is saved.' % fn_save)"
   ]
  },
  {
   "cell_type": "code",
   "execution_count": null,
   "metadata": {},
   "outputs": [],
   "source": [
    "result"
   ]
  },
  {
   "cell_type": "code",
   "execution_count": null,
   "metadata": {},
   "outputs": [],
   "source": []
  }
 ],
 "metadata": {
  "kernelspec": {
   "display_name": "Python 3",
   "language": "python",
   "name": "python3"
  },
  "language_info": {
   "codemirror_mode": {
    "name": "ipython",
    "version": 3
   },
   "file_extension": ".py",
   "mimetype": "text/x-python",
   "name": "python",
   "nbconvert_exporter": "python",
   "pygments_lexer": "ipython3",
   "version": "3.8.8"
  }
 },
 "nbformat": 4,
 "nbformat_minor": 4
}
